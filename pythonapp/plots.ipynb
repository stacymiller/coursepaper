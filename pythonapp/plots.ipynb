{
 "cells": [
  {
   "cell_type": "code",
   "execution_count": 113,
   "metadata": {
    "collapsed": false
   },
   "outputs": [],
   "source": [
    "%matplotlib inline\n",
    "import numpy as np\n",
    "import matplotlib.pyplot as plt\n",
    "import pandas as pd\n",
    "import shutil"
   ]
  },
  {
   "cell_type": "code",
   "execution_count": 129,
   "metadata": {
    "collapsed": true
   },
   "outputs": [],
   "source": [
    "discrete = pd.read_csv(\"results130.csv\", delimiter=\",\")"
   ]
  },
  {
   "cell_type": "code",
   "execution_count": 130,
   "metadata": {
    "collapsed": true
   },
   "outputs": [],
   "source": [
    "continuous = pd.read_csv(\"results_continious.csv\", delimiter=\",\")"
   ]
  },
  {
   "cell_type": "markdown",
   "metadata": {},
   "source": [
    "# convergence plots"
   ]
  },
  {
   "cell_type": "code",
   "execution_count": 131,
   "metadata": {
    "collapsed": false
   },
   "outputs": [],
   "source": [
    "analytics_disc = discrete.groupby([\"N\", \"b\"]).est.aggregate([np.mean, np.std])"
   ]
  },
  {
   "cell_type": "code",
   "execution_count": 132,
   "metadata": {
    "collapsed": false
   },
   "outputs": [
    {
     "data": {
      "text/html": [
       "<div>\n",
       "<table border=\"1\" class=\"dataframe\">\n",
       "  <thead>\n",
       "    <tr style=\"text-align: right;\">\n",
       "      <th></th>\n",
       "      <th></th>\n",
       "      <th>mean</th>\n",
       "      <th>std</th>\n",
       "    </tr>\n",
       "    <tr>\n",
       "      <th>N</th>\n",
       "      <th>b</th>\n",
       "      <th></th>\n",
       "      <th></th>\n",
       "    </tr>\n",
       "  </thead>\n",
       "  <tbody>\n",
       "    <tr>\n",
       "      <th rowspan=\"7\" valign=\"top\">10</th>\n",
       "      <th>10</th>\n",
       "      <td>31.104725</td>\n",
       "      <td>1.929176</td>\n",
       "    </tr>\n",
       "    <tr>\n",
       "      <th>20</th>\n",
       "      <td>30.526651</td>\n",
       "      <td>1.108007</td>\n",
       "    </tr>\n",
       "    <tr>\n",
       "      <th>50</th>\n",
       "      <td>30.132658</td>\n",
       "      <td>0.424944</td>\n",
       "    </tr>\n",
       "    <tr>\n",
       "      <th>100</th>\n",
       "      <td>30.030727</td>\n",
       "      <td>0.165369</td>\n",
       "    </tr>\n",
       "    <tr>\n",
       "      <th>150</th>\n",
       "      <td>30.008290</td>\n",
       "      <td>0.074850</td>\n",
       "    </tr>\n",
       "    <tr>\n",
       "      <th>200</th>\n",
       "      <td>30.004182</td>\n",
       "      <td>0.047998</td>\n",
       "    </tr>\n",
       "    <tr>\n",
       "      <th>300</th>\n",
       "      <td>30.000692</td>\n",
       "      <td>0.014486</td>\n",
       "    </tr>\n",
       "    <tr>\n",
       "      <th rowspan=\"7\" valign=\"top\">100</th>\n",
       "      <th>10</th>\n",
       "      <td>31.565596</td>\n",
       "      <td>2.459060</td>\n",
       "    </tr>\n",
       "    <tr>\n",
       "      <th>20</th>\n",
       "      <td>30.673427</td>\n",
       "      <td>1.366833</td>\n",
       "    </tr>\n",
       "    <tr>\n",
       "      <th>50</th>\n",
       "      <td>30.190279</td>\n",
       "      <td>0.559046</td>\n",
       "    </tr>\n",
       "    <tr>\n",
       "      <th>100</th>\n",
       "      <td>30.050004</td>\n",
       "      <td>0.226561</td>\n",
       "    </tr>\n",
       "    <tr>\n",
       "      <th>150</th>\n",
       "      <td>30.025584</td>\n",
       "      <td>0.147535</td>\n",
       "    </tr>\n",
       "    <tr>\n",
       "      <th>200</th>\n",
       "      <td>30.010438</td>\n",
       "      <td>0.081100</td>\n",
       "    </tr>\n",
       "    <tr>\n",
       "      <th>300</th>\n",
       "      <td>30.001652</td>\n",
       "      <td>0.024395</td>\n",
       "    </tr>\n",
       "    <tr>\n",
       "      <th rowspan=\"7\" valign=\"top\">1000</th>\n",
       "      <th>10</th>\n",
       "      <td>31.358324</td>\n",
       "      <td>2.289294</td>\n",
       "    </tr>\n",
       "    <tr>\n",
       "      <th>20</th>\n",
       "      <td>30.719224</td>\n",
       "      <td>1.410929</td>\n",
       "    </tr>\n",
       "    <tr>\n",
       "      <th>50</th>\n",
       "      <td>30.248209</td>\n",
       "      <td>0.649534</td>\n",
       "    </tr>\n",
       "    <tr>\n",
       "      <th>100</th>\n",
       "      <td>30.071149</td>\n",
       "      <td>0.299450</td>\n",
       "    </tr>\n",
       "    <tr>\n",
       "      <th>150</th>\n",
       "      <td>30.026259</td>\n",
       "      <td>0.157161</td>\n",
       "    </tr>\n",
       "    <tr>\n",
       "      <th>200</th>\n",
       "      <td>30.012045</td>\n",
       "      <td>0.101686</td>\n",
       "    </tr>\n",
       "    <tr>\n",
       "      <th>300</th>\n",
       "      <td>30.003041</td>\n",
       "      <td>0.043098</td>\n",
       "    </tr>\n",
       "    <tr>\n",
       "      <th rowspan=\"2\" valign=\"top\">10000</th>\n",
       "      <th>10</th>\n",
       "      <td>31.626414</td>\n",
       "      <td>2.611842</td>\n",
       "    </tr>\n",
       "    <tr>\n",
       "      <th>20</th>\n",
       "      <td>30.747809</td>\n",
       "      <td>1.464409</td>\n",
       "    </tr>\n",
       "  </tbody>\n",
       "</table>\n",
       "</div>"
      ],
      "text/plain": [
       "                mean       std\n",
       "N     b                       \n",
       "10    10   31.104725  1.929176\n",
       "      20   30.526651  1.108007\n",
       "      50   30.132658  0.424944\n",
       "      100  30.030727  0.165369\n",
       "      150  30.008290  0.074850\n",
       "      200  30.004182  0.047998\n",
       "      300  30.000692  0.014486\n",
       "100   10   31.565596  2.459060\n",
       "      20   30.673427  1.366833\n",
       "      50   30.190279  0.559046\n",
       "      100  30.050004  0.226561\n",
       "      150  30.025584  0.147535\n",
       "      200  30.010438  0.081100\n",
       "      300  30.001652  0.024395\n",
       "1000  10   31.358324  2.289294\n",
       "      20   30.719224  1.410929\n",
       "      50   30.248209  0.649534\n",
       "      100  30.071149  0.299450\n",
       "      150  30.026259  0.157161\n",
       "      200  30.012045  0.101686\n",
       "      300  30.003041  0.043098\n",
       "10000 10   31.626414  2.611842\n",
       "      20   30.747809  1.464409"
      ]
     },
     "execution_count": 132,
     "metadata": {},
     "output_type": "execute_result"
    }
   ],
   "source": [
    "analytics_disc"
   ]
  },
  {
   "cell_type": "code",
   "execution_count": 133,
   "metadata": {
    "collapsed": false
   },
   "outputs": [],
   "source": [
    "analytics_cont = continuous.groupby([\"b\"]).est.aggregate([np.mean, np.std])"
   ]
  },
  {
   "cell_type": "code",
   "execution_count": 134,
   "metadata": {
    "collapsed": false
   },
   "outputs": [
    {
     "data": {
      "text/html": [
       "<div>\n",
       "<table border=\"1\" class=\"dataframe\">\n",
       "  <thead>\n",
       "    <tr style=\"text-align: right;\">\n",
       "      <th></th>\n",
       "      <th>mean</th>\n",
       "      <th>std</th>\n",
       "    </tr>\n",
       "    <tr>\n",
       "      <th>b</th>\n",
       "      <th></th>\n",
       "      <th></th>\n",
       "    </tr>\n",
       "  </thead>\n",
       "  <tbody>\n",
       "    <tr>\n",
       "      <th>10</th>\n",
       "      <td>31.343697</td>\n",
       "      <td>2.336978</td>\n",
       "    </tr>\n",
       "    <tr>\n",
       "      <th>20</th>\n",
       "      <td>30.650291</td>\n",
       "      <td>1.259724</td>\n",
       "    </tr>\n",
       "    <tr>\n",
       "      <th>50</th>\n",
       "      <td>30.204270</td>\n",
       "      <td>0.536367</td>\n",
       "    </tr>\n",
       "  </tbody>\n",
       "</table>\n",
       "</div>"
      ],
      "text/plain": [
       "         mean       std\n",
       "b                      \n",
       "10  31.343697  2.336978\n",
       "20  30.650291  1.259724\n",
       "50  30.204270  0.536367"
      ]
     },
     "execution_count": 134,
     "metadata": {},
     "output_type": "execute_result"
    }
   ],
   "source": [
    "analytics_cont"
   ]
  },
  {
   "cell_type": "code",
   "execution_count": 135,
   "metadata": {
    "collapsed": true
   },
   "outputs": [],
   "source": [
    "from pylab import rcParams\n",
    "rcParams['figure.figsize'] = 10, 10"
   ]
  },
  {
   "cell_type": "code",
   "execution_count": 136,
   "metadata": {
    "collapsed": false
   },
   "outputs": [
    {
     "data": {
      "text/plain": [
       "Int64Index([10, 100, 1000, 10000], dtype='int64', name='N')"
      ]
     },
     "execution_count": 136,
     "metadata": {},
     "output_type": "execute_result"
    }
   ],
   "source": [
    "analytics_disc.index.levels[0]"
   ]
  },
  {
   "cell_type": "code",
   "execution_count": 137,
   "metadata": {
    "collapsed": false
   },
   "outputs": [
    {
     "name": "stderr",
     "output_type": "stream",
     "text": [
      "/usr/lib/python3/dist-packages/matplotlib/collections.py:571: FutureWarning: elementwise comparison failed; returning scalar instead, but in the future will perform elementwise comparison\n",
      "  if self._edgecolors == str('face'):\n"
     ]
    },
    {
     "data": {
      "image/png": "[encoded data removed]",
      "text/plain": [
       "<matplotlib.figure.Figure at 0x7faa88062780>"
      ]
     },
     "metadata": {},
     "output_type": "display_data"
    }
   ],
   "source": [
    "def plot_errorbar(df, label):\n",
    "    plotline, caplines, barlinecols = plt.errorbar(df.index.tolist(), df[\"mean\"].tolist(), yerr=df[\"std\"].tolist(), label=label)\n",
    "    for barline in barlinecols:\n",
    "        barline.set_alpha(0.5)\n",
    "        \n",
    "for N in analytics_disc.index.levels[0]:\n",
    "    plot_errorbar(analytics_disc.loc[N], label=\"$N$ = {}\".format(N))\n",
    "    \n",
    "plot_errorbar(analytics_cont, label=\"непрерывная модель\")\n",
    "# plt.errorbar(analytics_cont.index, analytics_cont[\"mean\"], yerr=analytics_cont[\"std\"], label=\"continuous\")\n",
    "plt.legend()\n",
    "# plt.title(\"Оценки цены Бермудского опциона с 4 моментами исполнения\")\n",
    "plt.ylim((29, 32))\n",
    "plt.xlabel(\"число ветвей $b$\")\n",
    "plt.ylabel(\"оценка стоимости опциона $V_0$\")\n",
    "plt.savefig(\"130.png\")\n",
    "plt.savefig(\"130.eps\")\n",
    "shutil.copy(\"130.eps\", \"../paper/media/\")\n",
    "plt.show()"
   ]
  },
  {
   "cell_type": "markdown",
   "metadata": {},
   "source": [
    "# complexity plots"
   ]
  },
  {
   "cell_type": "code",
   "execution_count": 138,
   "metadata": {
    "collapsed": true
   },
   "outputs": [],
   "source": [
    "complexity_disc = discrete.groupby([\"N\", \"b\"]).ticks.aggregate([np.mean, np.std])"
   ]
  },
  {
   "cell_type": "code",
   "execution_count": 139,
   "metadata": {
    "collapsed": false
   },
   "outputs": [
    {
     "data": {
      "text/html": [
       "<div>\n",
       "<table border=\"1\" class=\"dataframe\">\n",
       "  <thead>\n",
       "    <tr style=\"text-align: right;\">\n",
       "      <th></th>\n",
       "      <th></th>\n",
       "      <th>mean</th>\n",
       "      <th>std</th>\n",
       "    </tr>\n",
       "    <tr>\n",
       "      <th>N</th>\n",
       "      <th>b</th>\n",
       "      <th></th>\n",
       "      <th></th>\n",
       "    </tr>\n",
       "  </thead>\n",
       "  <tbody>\n",
       "    <tr>\n",
       "      <th rowspan=\"7\" valign=\"top\">10</th>\n",
       "      <th>10</th>\n",
       "      <td>27.470000</td>\n",
       "      <td>1.059350</td>\n",
       "    </tr>\n",
       "    <tr>\n",
       "      <th>20</th>\n",
       "      <td>29.783000</td>\n",
       "      <td>0.859447</td>\n",
       "    </tr>\n",
       "    <tr>\n",
       "      <th>50</th>\n",
       "      <td>30.938000</td>\n",
       "      <td>0.245390</td>\n",
       "    </tr>\n",
       "    <tr>\n",
       "      <th>100</th>\n",
       "      <td>30.999000</td>\n",
       "      <td>0.031623</td>\n",
       "    </tr>\n",
       "    <tr>\n",
       "      <th>150</th>\n",
       "      <td>31.000000</td>\n",
       "      <td>0.000000</td>\n",
       "    </tr>\n",
       "    <tr>\n",
       "      <th>200</th>\n",
       "      <td>31.000000</td>\n",
       "      <td>0.000000</td>\n",
       "    </tr>\n",
       "    <tr>\n",
       "      <th>300</th>\n",
       "      <td>31.000000</td>\n",
       "      <td>0.000000</td>\n",
       "    </tr>\n",
       "    <tr>\n",
       "      <th rowspan=\"7\" valign=\"top\">100</th>\n",
       "      <th>10</th>\n",
       "      <td>169.167000</td>\n",
       "      <td>4.810848</td>\n",
       "    </tr>\n",
       "    <tr>\n",
       "      <th>20</th>\n",
       "      <td>215.457000</td>\n",
       "      <td>2.653524</td>\n",
       "    </tr>\n",
       "    <tr>\n",
       "      <th>50</th>\n",
       "      <td>240.477000</td>\n",
       "      <td>2.329570</td>\n",
       "    </tr>\n",
       "    <tr>\n",
       "      <th>100</th>\n",
       "      <td>264.461000</td>\n",
       "      <td>3.110974</td>\n",
       "    </tr>\n",
       "    <tr>\n",
       "      <th>150</th>\n",
       "      <td>278.809000</td>\n",
       "      <td>3.205432</td>\n",
       "    </tr>\n",
       "    <tr>\n",
       "      <th>200</th>\n",
       "      <td>287.508000</td>\n",
       "      <td>2.848869</td>\n",
       "    </tr>\n",
       "    <tr>\n",
       "      <th>300</th>\n",
       "      <td>296.093000</td>\n",
       "      <td>2.045124</td>\n",
       "    </tr>\n",
       "    <tr>\n",
       "      <th rowspan=\"7\" valign=\"top\">1000</th>\n",
       "      <th>10</th>\n",
       "      <td>664.006000</td>\n",
       "      <td>24.496654</td>\n",
       "    </tr>\n",
       "    <tr>\n",
       "      <th>20</th>\n",
       "      <td>1332.821000</td>\n",
       "      <td>11.941841</td>\n",
       "    </tr>\n",
       "    <tr>\n",
       "      <th>50</th>\n",
       "      <td>1943.139000</td>\n",
       "      <td>12.420626</td>\n",
       "    </tr>\n",
       "    <tr>\n",
       "      <th>100</th>\n",
       "      <td>2095.994000</td>\n",
       "      <td>2.094362</td>\n",
       "    </tr>\n",
       "    <tr>\n",
       "      <th>150</th>\n",
       "      <td>2140.289000</td>\n",
       "      <td>2.932248</td>\n",
       "    </tr>\n",
       "    <tr>\n",
       "      <th>200</th>\n",
       "      <td>2182.306000</td>\n",
       "      <td>3.935461</td>\n",
       "    </tr>\n",
       "    <tr>\n",
       "      <th>300</th>\n",
       "      <td>2260.401000</td>\n",
       "      <td>5.286790</td>\n",
       "    </tr>\n",
       "    <tr>\n",
       "      <th rowspan=\"2\" valign=\"top\">10000</th>\n",
       "      <th>10</th>\n",
       "      <td>1018.743000</td>\n",
       "      <td>21.118829</td>\n",
       "    </tr>\n",
       "    <tr>\n",
       "      <th>20</th>\n",
       "      <td>5384.139043</td>\n",
       "      <td>111.855825</td>\n",
       "    </tr>\n",
       "  </tbody>\n",
       "</table>\n",
       "</div>"
      ],
      "text/plain": [
       "                  mean         std\n",
       "N     b                           \n",
       "10    10     27.470000    1.059350\n",
       "      20     29.783000    0.859447\n",
       "      50     30.938000    0.245390\n",
       "      100    30.999000    0.031623\n",
       "      150    31.000000    0.000000\n",
       "      200    31.000000    0.000000\n",
       "      300    31.000000    0.000000\n",
       "100   10    169.167000    4.810848\n",
       "      20    215.457000    2.653524\n",
       "      50    240.477000    2.329570\n",
       "      100   264.461000    3.110974\n",
       "      150   278.809000    3.205432\n",
       "      200   287.508000    2.848869\n",
       "      300   296.093000    2.045124\n",
       "1000  10    664.006000   24.496654\n",
       "      20   1332.821000   11.941841\n",
       "      50   1943.139000   12.420626\n",
       "      100  2095.994000    2.094362\n",
       "      150  2140.289000    2.932248\n",
       "      200  2182.306000    3.935461\n",
       "      300  2260.401000    5.286790\n",
       "10000 10   1018.743000   21.118829\n",
       "      20   5384.139043  111.855825"
      ]
     },
     "execution_count": 139,
     "metadata": {},
     "output_type": "execute_result"
    }
   ],
   "source": [
    "complexity_disc"
   ]
  },
  {
   "cell_type": "code",
   "execution_count": 140,
   "metadata": {
    "collapsed": false
   },
   "outputs": [],
   "source": [
    "complexity_cont = continuous.groupby([\"b\"]).ticks.aggregate([np.mean, np.std])"
   ]
  },
  {
   "cell_type": "code",
   "execution_count": 141,
   "metadata": {
    "collapsed": false
   },
   "outputs": [
    {
     "data": {
      "text/html": [
       "<div>\n",
       "<table border=\"1\" class=\"dataframe\">\n",
       "  <thead>\n",
       "    <tr style=\"text-align: right;\">\n",
       "      <th></th>\n",
       "      <th>mean</th>\n",
       "      <th>std</th>\n",
       "    </tr>\n",
       "    <tr>\n",
       "      <th>b</th>\n",
       "      <th></th>\n",
       "      <th></th>\n",
       "    </tr>\n",
       "  </thead>\n",
       "  <tbody>\n",
       "    <tr>\n",
       "      <th>10</th>\n",
       "      <td>11111</td>\n",
       "      <td>0.0</td>\n",
       "    </tr>\n",
       "    <tr>\n",
       "      <th>20</th>\n",
       "      <td>168421</td>\n",
       "      <td>0.0</td>\n",
       "    </tr>\n",
       "    <tr>\n",
       "      <th>50</th>\n",
       "      <td>6377551</td>\n",
       "      <td>0.0</td>\n",
       "    </tr>\n",
       "  </tbody>\n",
       "</table>\n",
       "</div>"
      ],
      "text/plain": [
       "       mean  std\n",
       "b               \n",
       "10    11111  0.0\n",
       "20   168421  0.0\n",
       "50  6377551  0.0"
      ]
     },
     "execution_count": 141,
     "metadata": {},
     "output_type": "execute_result"
    }
   ],
   "source": [
    "complexity_cont"
   ]
  },
  {
   "cell_type": "code",
   "execution_count": 142,
   "metadata": {
    "collapsed": false
   },
   "outputs": [
    {
     "data": {
      "image/png": "[encoded data removed]",
      "text/plain": [
       "<matplotlib.figure.Figure at 0x7faa87ad5198>"
      ]
     },
     "metadata": {},
     "output_type": "display_data"
    }
   ],
   "source": [
    "def plot_line(df, label):\n",
    "    plt.plot(df.index, df[\"mean\"], label=label)\n",
    "    \n",
    "for N in complexity_disc.index.levels[0]:\n",
    "    plot_line(complexity_disc.loc[N], label=\"$N$ = {}\".format(N))\n",
    "    \n",
    "plot_line(complexity_cont, label=\"непрерывная модель\")\n",
    "# plt.errorbar(analytics_cont.index, analytics_cont[\"mean\"], yerr=analytics_cont[\"std\"], label=\"continuous\")\n",
    "plt.legend()\n",
    "# plt.title(\"Количество элементарных операций для оценки Бермудского опциона с 4 моментами исполнения\")\n",
    "plt.yscale(\"log\")\n",
    "plt.xlabel(\"число ветвей $b$\")\n",
    "plt.ylabel(\"количество элементарных операций\")\n",
    "plt.savefig(\"complexity_130.png\")\n",
    "plt.savefig(\"complexity_130.eps\")\n",
    "shutil.copy(\"complexity_130.eps\", \"../paper/media/\")\n",
    "plt.show()"
   ]
  },
  {
   "cell_type": "code",
   "execution_count": null,
   "metadata": {
    "collapsed": true
   },
   "outputs": [],
   "source": []
  },
  {
   "cell_type": "code",
   "execution_count": null,
   "metadata": {
    "collapsed": true
   },
   "outputs": [],
   "source": []
  }
 ],
 "metadata": {
  "kernelspec": {
   "display_name": "Python 3",
   "language": "python",
   "name": "python3"
  },
  "language_info": {
   "codemirror_mode": {
    "name": "ipython",
    "version": 3
   },
   "file_extension": ".py",
   "mimetype": "text/x-python",
   "name": "python",
   "nbconvert_exporter": "python",
   "pygments_lexer": "ipython3",
   "version": "3.4.3"
  }
 },
 "nbformat": 4,
 "nbformat_minor": 0
}
